{
  "nbformat": 4,
  "nbformat_minor": 0,
  "metadata": {
    "colab": {
      "name": "using_basic_nlp_approach.ipynb",
      "provenance": [],
      "collapsed_sections": []
    },
    "kernelspec": {
      "name": "python3",
      "display_name": "Python 3"
    }
  },
  "cells": [
    {
      "cell_type": "code",
      "metadata": {
        "id": "VhZ5Ilt9Dghg"
      },
      "source": [
        "text=\"\"\"\n",
        "There are broadly two types of extractive summarization tasks depending on what the summarization program focuses on. The first is generic summarization, which focuses on obtaining a generic summary or abstract of the collection (whether documents, or sets of images, or videos, news stories etc.). The second is query relevant summarization, sometimes called query-based summarization, which summarizes objects specific to a query. Summarization systems are able to create both query relevant text summaries and generic machine-generated summaries depending on what the user needs.\n",
        "An example of a summarization problem is document summarization, which attempts to automatically produce an abstract from a given document. Sometimes one might be interested in generating a summary from a single source document, while others can use multiple source documents (for example, a cluster of articles on the same topic). This problem is called multi-document summarization. A related application is summarizing news articles. Imagine a system, which automatically pulls together news articles on a given topic (from the web), and concisely represents the latest news as a summary.\n",
        "Image collection summarization is another application example of automatic summarization. It consists in selecting a representative set of images from a larger set of images.[3] A summary in this context is useful to show the most representative images of results in an image collection exploration system. Video summarization is a related domain, where the system automatically creates a trailer of a long video. This also has applications in consumer or personal videos, where one might want to skip the boring or repetitive actions. Similarly, in surveillance videos, one would want to extract important and suspicious activity, while ignoring all the boring and redundant frames captured.\n",
        "\"\"\""
      ],
      "execution_count": 1,
      "outputs": []
    },
    {
      "cell_type": "code",
      "metadata": {
        "colab": {
          "base_uri": "https://localhost:8080/"
        },
        "id": "1hzTRoIoHFNY",
        "outputId": "a2dd3c93-70bd-400c-fcf4-d9d345fb348b"
      },
      "source": [
        "!pip3 install -U spacy\n",
        "\n",
        "!python3 -m spacy download en_core_web_sm"
      ],
      "execution_count": 2,
      "outputs": [
        {
          "output_type": "stream",
          "text": [
            "Collecting spacy\n",
            "\u001b[?25l  Downloading https://files.pythonhosted.org/packages/e5/bf/ca7bb25edd21f1cf9d498d0023808279672a664a70585e1962617ca2740c/spacy-2.3.5-cp36-cp36m-manylinux2014_x86_64.whl (10.4MB)\n",
            "\u001b[K     |████████████████████████████████| 10.4MB 5.2MB/s \n",
            "\u001b[?25hRequirement already satisfied, skipping upgrade: wasabi<1.1.0,>=0.4.0 in /usr/local/lib/python3.6/dist-packages (from spacy) (0.8.0)\n",
            "Requirement already satisfied, skipping upgrade: cymem<2.1.0,>=2.0.2 in /usr/local/lib/python3.6/dist-packages (from spacy) (2.0.5)\n",
            "Requirement already satisfied, skipping upgrade: preshed<3.1.0,>=3.0.2 in /usr/local/lib/python3.6/dist-packages (from spacy) (3.0.5)\n",
            "Collecting thinc<7.5.0,>=7.4.1\n",
            "\u001b[?25l  Downloading https://files.pythonhosted.org/packages/c0/1a/c3e4ab982214c63d743fad57c45c5e68ee49e4ea4384d27b28595a26ad26/thinc-7.4.5-cp36-cp36m-manylinux2014_x86_64.whl (1.1MB)\n",
            "\u001b[K     |████████████████████████████████| 1.1MB 46.3MB/s \n",
            "\u001b[?25hRequirement already satisfied, skipping upgrade: murmurhash<1.1.0,>=0.28.0 in /usr/local/lib/python3.6/dist-packages (from spacy) (1.0.5)\n",
            "Requirement already satisfied, skipping upgrade: srsly<1.1.0,>=1.0.2 in /usr/local/lib/python3.6/dist-packages (from spacy) (1.0.5)\n",
            "Requirement already satisfied, skipping upgrade: catalogue<1.1.0,>=0.0.7 in /usr/local/lib/python3.6/dist-packages (from spacy) (1.0.0)\n",
            "Requirement already satisfied, skipping upgrade: setuptools in /usr/local/lib/python3.6/dist-packages (from spacy) (51.1.1)\n",
            "Requirement already satisfied, skipping upgrade: requests<3.0.0,>=2.13.0 in /usr/local/lib/python3.6/dist-packages (from spacy) (2.23.0)\n",
            "Requirement already satisfied, skipping upgrade: tqdm<5.0.0,>=4.38.0 in /usr/local/lib/python3.6/dist-packages (from spacy) (4.41.1)\n",
            "Requirement already satisfied, skipping upgrade: numpy>=1.15.0 in /usr/local/lib/python3.6/dist-packages (from spacy) (1.19.4)\n",
            "Requirement already satisfied, skipping upgrade: plac<1.2.0,>=0.9.6 in /usr/local/lib/python3.6/dist-packages (from spacy) (1.1.3)\n",
            "Requirement already satisfied, skipping upgrade: blis<0.8.0,>=0.4.0 in /usr/local/lib/python3.6/dist-packages (from spacy) (0.4.1)\n",
            "Requirement already satisfied, skipping upgrade: importlib-metadata>=0.20; python_version < \"3.8\" in /usr/local/lib/python3.6/dist-packages (from catalogue<1.1.0,>=0.0.7->spacy) (3.3.0)\n",
            "Requirement already satisfied, skipping upgrade: idna<3,>=2.5 in /usr/local/lib/python3.6/dist-packages (from requests<3.0.0,>=2.13.0->spacy) (2.10)\n",
            "Requirement already satisfied, skipping upgrade: urllib3!=1.25.0,!=1.25.1,<1.26,>=1.21.1 in /usr/local/lib/python3.6/dist-packages (from requests<3.0.0,>=2.13.0->spacy) (1.24.3)\n",
            "Requirement already satisfied, skipping upgrade: certifi>=2017.4.17 in /usr/local/lib/python3.6/dist-packages (from requests<3.0.0,>=2.13.0->spacy) (2020.12.5)\n",
            "Requirement already satisfied, skipping upgrade: chardet<4,>=3.0.2 in /usr/local/lib/python3.6/dist-packages (from requests<3.0.0,>=2.13.0->spacy) (3.0.4)\n",
            "Requirement already satisfied, skipping upgrade: typing-extensions>=3.6.4; python_version < \"3.8\" in /usr/local/lib/python3.6/dist-packages (from importlib-metadata>=0.20; python_version < \"3.8\"->catalogue<1.1.0,>=0.0.7->spacy) (3.7.4.3)\n",
            "Requirement already satisfied, skipping upgrade: zipp>=0.5 in /usr/local/lib/python3.6/dist-packages (from importlib-metadata>=0.20; python_version < \"3.8\"->catalogue<1.1.0,>=0.0.7->spacy) (3.4.0)\n",
            "Installing collected packages: thinc, spacy\n",
            "  Found existing installation: thinc 7.4.0\n",
            "    Uninstalling thinc-7.4.0:\n",
            "      Successfully uninstalled thinc-7.4.0\n",
            "  Found existing installation: spacy 2.2.4\n",
            "    Uninstalling spacy-2.2.4:\n",
            "      Successfully uninstalled spacy-2.2.4\n",
            "Successfully installed spacy-2.3.5 thinc-7.4.5\n",
            "Collecting en_core_web_sm==2.3.1\n",
            "\u001b[?25l  Downloading https://github.com/explosion/spacy-models/releases/download/en_core_web_sm-2.3.1/en_core_web_sm-2.3.1.tar.gz (12.0MB)\n",
            "\u001b[K     |████████████████████████████████| 12.1MB 3.9MB/s \n",
            "\u001b[?25hRequirement already satisfied: spacy<2.4.0,>=2.3.0 in /usr/local/lib/python3.6/dist-packages (from en_core_web_sm==2.3.1) (2.3.5)\n",
            "Requirement already satisfied: setuptools in /usr/local/lib/python3.6/dist-packages (from spacy<2.4.0,>=2.3.0->en_core_web_sm==2.3.1) (51.1.1)\n",
            "Requirement already satisfied: thinc<7.5.0,>=7.4.1 in /usr/local/lib/python3.6/dist-packages (from spacy<2.4.0,>=2.3.0->en_core_web_sm==2.3.1) (7.4.5)\n",
            "Requirement already satisfied: tqdm<5.0.0,>=4.38.0 in /usr/local/lib/python3.6/dist-packages (from spacy<2.4.0,>=2.3.0->en_core_web_sm==2.3.1) (4.41.1)\n",
            "Requirement already satisfied: requests<3.0.0,>=2.13.0 in /usr/local/lib/python3.6/dist-packages (from spacy<2.4.0,>=2.3.0->en_core_web_sm==2.3.1) (2.23.0)\n",
            "Requirement already satisfied: numpy>=1.15.0 in /usr/local/lib/python3.6/dist-packages (from spacy<2.4.0,>=2.3.0->en_core_web_sm==2.3.1) (1.19.4)\n",
            "Requirement already satisfied: srsly<1.1.0,>=1.0.2 in /usr/local/lib/python3.6/dist-packages (from spacy<2.4.0,>=2.3.0->en_core_web_sm==2.3.1) (1.0.5)\n",
            "Requirement already satisfied: wasabi<1.1.0,>=0.4.0 in /usr/local/lib/python3.6/dist-packages (from spacy<2.4.0,>=2.3.0->en_core_web_sm==2.3.1) (0.8.0)\n",
            "Requirement already satisfied: plac<1.2.0,>=0.9.6 in /usr/local/lib/python3.6/dist-packages (from spacy<2.4.0,>=2.3.0->en_core_web_sm==2.3.1) (1.1.3)\n",
            "Requirement already satisfied: cymem<2.1.0,>=2.0.2 in /usr/local/lib/python3.6/dist-packages (from spacy<2.4.0,>=2.3.0->en_core_web_sm==2.3.1) (2.0.5)\n",
            "Requirement already satisfied: catalogue<1.1.0,>=0.0.7 in /usr/local/lib/python3.6/dist-packages (from spacy<2.4.0,>=2.3.0->en_core_web_sm==2.3.1) (1.0.0)\n",
            "Requirement already satisfied: murmurhash<1.1.0,>=0.28.0 in /usr/local/lib/python3.6/dist-packages (from spacy<2.4.0,>=2.3.0->en_core_web_sm==2.3.1) (1.0.5)\n",
            "Requirement already satisfied: preshed<3.1.0,>=3.0.2 in /usr/local/lib/python3.6/dist-packages (from spacy<2.4.0,>=2.3.0->en_core_web_sm==2.3.1) (3.0.5)\n",
            "Requirement already satisfied: blis<0.8.0,>=0.4.0 in /usr/local/lib/python3.6/dist-packages (from spacy<2.4.0,>=2.3.0->en_core_web_sm==2.3.1) (0.4.1)\n",
            "Requirement already satisfied: certifi>=2017.4.17 in /usr/local/lib/python3.6/dist-packages (from requests<3.0.0,>=2.13.0->spacy<2.4.0,>=2.3.0->en_core_web_sm==2.3.1) (2020.12.5)\n",
            "Requirement already satisfied: idna<3,>=2.5 in /usr/local/lib/python3.6/dist-packages (from requests<3.0.0,>=2.13.0->spacy<2.4.0,>=2.3.0->en_core_web_sm==2.3.1) (2.10)\n",
            "Requirement already satisfied: chardet<4,>=3.0.2 in /usr/local/lib/python3.6/dist-packages (from requests<3.0.0,>=2.13.0->spacy<2.4.0,>=2.3.0->en_core_web_sm==2.3.1) (3.0.4)\n",
            "Requirement already satisfied: urllib3!=1.25.0,!=1.25.1,<1.26,>=1.21.1 in /usr/local/lib/python3.6/dist-packages (from requests<3.0.0,>=2.13.0->spacy<2.4.0,>=2.3.0->en_core_web_sm==2.3.1) (1.24.3)\n",
            "Requirement already satisfied: importlib-metadata>=0.20; python_version < \"3.8\" in /usr/local/lib/python3.6/dist-packages (from catalogue<1.1.0,>=0.0.7->spacy<2.4.0,>=2.3.0->en_core_web_sm==2.3.1) (3.3.0)\n",
            "Requirement already satisfied: typing-extensions>=3.6.4; python_version < \"3.8\" in /usr/local/lib/python3.6/dist-packages (from importlib-metadata>=0.20; python_version < \"3.8\"->catalogue<1.1.0,>=0.0.7->spacy<2.4.0,>=2.3.0->en_core_web_sm==2.3.1) (3.7.4.3)\n",
            "Requirement already satisfied: zipp>=0.5 in /usr/local/lib/python3.6/dist-packages (from importlib-metadata>=0.20; python_version < \"3.8\"->catalogue<1.1.0,>=0.0.7->spacy<2.4.0,>=2.3.0->en_core_web_sm==2.3.1) (3.4.0)\n",
            "Building wheels for collected packages: en-core-web-sm\n",
            "  Building wheel for en-core-web-sm (setup.py) ... \u001b[?25l\u001b[?25hdone\n",
            "  Created wheel for en-core-web-sm: filename=en_core_web_sm-2.3.1-cp36-none-any.whl size=12047109 sha256=5ef913b7a795b77a2c4f01e90649b1c5353ef40a3c2fa0b7c9c302cfeda55056\n",
            "  Stored in directory: /tmp/pip-ephem-wheel-cache-_ii8k0p2/wheels/2b/3f/41/f0b92863355c3ba34bb32b37d8a0c662959da0058202094f46\n",
            "Successfully built en-core-web-sm\n",
            "Installing collected packages: en-core-web-sm\n",
            "  Found existing installation: en-core-web-sm 2.2.5\n",
            "    Uninstalling en-core-web-sm-2.2.5:\n",
            "      Successfully uninstalled en-core-web-sm-2.2.5\n",
            "Successfully installed en-core-web-sm-2.3.1\n",
            "\u001b[38;5;2m✔ Download and installation successful\u001b[0m\n",
            "You can now load the model via spacy.load('en_core_web_sm')\n"
          ],
          "name": "stdout"
        }
      ]
    },
    {
      "cell_type": "code",
      "metadata": {
        "id": "hKKgs-HfHJhb"
      },
      "source": [
        "import spacy\n",
        "from spacy.lang.en.stop_words import STOP_WORDS\n",
        "from string import punctuation"
      ],
      "execution_count": 5,
      "outputs": []
    },
    {
      "cell_type": "code",
      "metadata": {
        "id": "NK1lqxhgHgN6"
      },
      "source": [
        "stopwords=list(STOP_WORDS)"
      ],
      "execution_count": 6,
      "outputs": []
    },
    {
      "cell_type": "code",
      "metadata": {
        "id": "V6qkN7nRHoMG"
      },
      "source": [
        "nlp=spacy.load('en_core_web_sm')"
      ],
      "execution_count": 7,
      "outputs": []
    },
    {
      "cell_type": "code",
      "metadata": {
        "id": "6dGz7xblHvit"
      },
      "source": [
        "doc=nlp(text)"
      ],
      "execution_count": 8,
      "outputs": []
    },
    {
      "cell_type": "code",
      "metadata": {
        "colab": {
          "base_uri": "https://localhost:8080/"
        },
        "id": "MYJCvY0GHxTn",
        "outputId": "f04b56ba-63d7-4ff3-a8ab-5b6ee3ed4853"
      },
      "source": [
        "tokens=[token.text for token in doc]\n",
        "print(tokens)"
      ],
      "execution_count": 9,
      "outputs": [
        {
          "output_type": "stream",
          "text": [
            "['\\n', 'There', 'are', 'broadly', 'two', 'types', 'of', 'extractive', 'summarization', 'tasks', 'depending', 'on', 'what', 'the', 'summarization', 'program', 'focuses', 'on', '.', 'The', 'first', 'is', 'generic', 'summarization', ',', 'which', 'focuses', 'on', 'obtaining', 'a', 'generic', 'summary', 'or', 'abstract', 'of', 'the', 'collection', '(', 'whether', 'documents', ',', 'or', 'sets', 'of', 'images', ',', 'or', 'videos', ',', 'news', 'stories', 'etc', '.', ')', '.', 'The', 'second', 'is', 'query', 'relevant', 'summarization', ',', 'sometimes', 'called', 'query', '-', 'based', 'summarization', ',', 'which', 'summarizes', 'objects', 'specific', 'to', 'a', 'query', '.', 'Summarization', 'systems', 'are', 'able', 'to', 'create', 'both', 'query', 'relevant', 'text', 'summaries', 'and', 'generic', 'machine', '-', 'generated', 'summaries', 'depending', 'on', 'what', 'the', 'user', 'needs', '.', '\\n', 'An', 'example', 'of', 'a', 'summarization', 'problem', 'is', 'document', 'summarization', ',', 'which', 'attempts', 'to', 'automatically', 'produce', 'an', 'abstract', 'from', 'a', 'given', 'document', '.', 'Sometimes', 'one', 'might', 'be', 'interested', 'in', 'generating', 'a', 'summary', 'from', 'a', 'single', 'source', 'document', ',', 'while', 'others', 'can', 'use', 'multiple', 'source', 'documents', '(', 'for', 'example', ',', 'a', 'cluster', 'of', 'articles', 'on', 'the', 'same', 'topic', ')', '.', 'This', 'problem', 'is', 'called', 'multi', '-', 'document', 'summarization', '.', 'A', 'related', 'application', 'is', 'summarizing', 'news', 'articles', '.', 'Imagine', 'a', 'system', ',', 'which', 'automatically', 'pulls', 'together', 'news', 'articles', 'on', 'a', 'given', 'topic', '(', 'from', 'the', 'web', ')', ',', 'and', 'concisely', 'represents', 'the', 'latest', 'news', 'as', 'a', 'summary', '.', '\\n', 'Image', 'collection', 'summarization', 'is', 'another', 'application', 'example', 'of', 'automatic', 'summarization', '.', 'It', 'consists', 'in', 'selecting', 'a', 'representative', 'set', 'of', 'images', 'from', 'a', 'larger', 'set', 'of', 'images.[3', ']', 'A', 'summary', 'in', 'this', 'context', 'is', 'useful', 'to', 'show', 'the', 'most', 'representative', 'images', 'of', 'results', 'in', 'an', 'image', 'collection', 'exploration', 'system', '.', 'Video', 'summarization', 'is', 'a', 'related', 'domain', ',', 'where', 'the', 'system', 'automatically', 'creates', 'a', 'trailer', 'of', 'a', 'long', 'video', '.', 'This', 'also', 'has', 'applications', 'in', 'consumer', 'or', 'personal', 'videos', ',', 'where', 'one', 'might', 'want', 'to', 'skip', 'the', 'boring', 'or', 'repetitive', 'actions', '.', 'Similarly', ',', 'in', 'surveillance', 'videos', ',', 'one', 'would', 'want', 'to', 'extract', 'important', 'and', 'suspicious', 'activity', ',', 'while', 'ignoring', 'all', 'the', 'boring', 'and', 'redundant', 'frames', 'captured', '.', '\\n']\n"
          ],
          "name": "stdout"
        }
      ]
    },
    {
      "cell_type": "code",
      "metadata": {
        "colab": {
          "base_uri": "https://localhost:8080/",
          "height": 36
        },
        "id": "XsTP28FUH3tM",
        "outputId": "7c462120-9d8a-4889-d203-b1e605b17ec2"
      },
      "source": [
        "punctuation=punctuation+\"\\n\"\n",
        "punctuation"
      ],
      "execution_count": 10,
      "outputs": [
        {
          "output_type": "execute_result",
          "data": {
            "application/vnd.google.colaboratory.intrinsic+json": {
              "type": "string"
            },
            "text/plain": [
              "'!\"#$%&\\'()*+,-./:;<=>?@[\\\\]^_`{|}~\\n'"
            ]
          },
          "metadata": {
            "tags": []
          },
          "execution_count": 10
        }
      ]
    },
    {
      "cell_type": "code",
      "metadata": {
        "id": "B5XZHo8eIG_l"
      },
      "source": [
        "word_freq={}\n",
        "for word in doc:\n",
        "    if word.text.lower() not in stopwords:\n",
        "        if word.text.lower() not in punctuation:\n",
        "            if word.text not in word_freq.keys():\n",
        "                word_freq[word.text]=1\n",
        "            else:\n",
        "                word_freq[word.text]=word_freq[word.text]+1"
      ],
      "execution_count": 18,
      "outputs": []
    },
    {
      "cell_type": "code",
      "metadata": {
        "colab": {
          "base_uri": "https://localhost:8080/"
        },
        "id": "G8VuKm1NIs73",
        "outputId": "244da10e-1ae7-41d4-c7a5-057d2825672c"
      },
      "source": [
        "word_freq"
      ],
      "execution_count": 19,
      "outputs": [
        {
          "output_type": "execute_result",
          "data": {
            "text/plain": [
              "{'Image': 1,\n",
              " 'Imagine': 1,\n",
              " 'Similarly': 1,\n",
              " 'Summarization': 1,\n",
              " 'Video': 1,\n",
              " 'able': 1,\n",
              " 'abstract': 2,\n",
              " 'actions': 1,\n",
              " 'activity': 1,\n",
              " 'application': 2,\n",
              " 'applications': 1,\n",
              " 'articles': 3,\n",
              " 'attempts': 1,\n",
              " 'automatic': 1,\n",
              " 'automatically': 3,\n",
              " 'based': 1,\n",
              " 'boring': 2,\n",
              " 'broadly': 1,\n",
              " 'called': 2,\n",
              " 'captured': 1,\n",
              " 'cluster': 1,\n",
              " 'collection': 3,\n",
              " 'concisely': 1,\n",
              " 'consists': 1,\n",
              " 'consumer': 1,\n",
              " 'context': 1,\n",
              " 'create': 1,\n",
              " 'creates': 1,\n",
              " 'depending': 2,\n",
              " 'document': 4,\n",
              " 'documents': 2,\n",
              " 'domain': 1,\n",
              " 'etc': 1,\n",
              " 'example': 3,\n",
              " 'exploration': 1,\n",
              " 'extract': 1,\n",
              " 'extractive': 1,\n",
              " 'focuses': 2,\n",
              " 'frames': 1,\n",
              " 'generated': 1,\n",
              " 'generating': 1,\n",
              " 'generic': 3,\n",
              " 'given': 2,\n",
              " 'ignoring': 1,\n",
              " 'image': 1,\n",
              " 'images': 3,\n",
              " 'images.[3': 1,\n",
              " 'important': 1,\n",
              " 'interested': 1,\n",
              " 'larger': 1,\n",
              " 'latest': 1,\n",
              " 'long': 1,\n",
              " 'machine': 1,\n",
              " 'multi': 1,\n",
              " 'multiple': 1,\n",
              " 'needs': 1,\n",
              " 'news': 4,\n",
              " 'objects': 1,\n",
              " 'obtaining': 1,\n",
              " 'personal': 1,\n",
              " 'problem': 2,\n",
              " 'produce': 1,\n",
              " 'program': 1,\n",
              " 'pulls': 1,\n",
              " 'query': 4,\n",
              " 'redundant': 1,\n",
              " 'related': 2,\n",
              " 'relevant': 2,\n",
              " 'repetitive': 1,\n",
              " 'representative': 2,\n",
              " 'represents': 1,\n",
              " 'results': 1,\n",
              " 'second': 1,\n",
              " 'selecting': 1,\n",
              " 'set': 2,\n",
              " 'sets': 1,\n",
              " 'single': 1,\n",
              " 'skip': 1,\n",
              " 'source': 2,\n",
              " 'specific': 1,\n",
              " 'stories': 1,\n",
              " 'summaries': 2,\n",
              " 'summarization': 11,\n",
              " 'summarizes': 1,\n",
              " 'summarizing': 1,\n",
              " 'summary': 4,\n",
              " 'surveillance': 1,\n",
              " 'suspicious': 1,\n",
              " 'system': 3,\n",
              " 'systems': 1,\n",
              " 'tasks': 1,\n",
              " 'text': 1,\n",
              " 'topic': 2,\n",
              " 'trailer': 1,\n",
              " 'types': 1,\n",
              " 'use': 1,\n",
              " 'useful': 1,\n",
              " 'user': 1,\n",
              " 'video': 1,\n",
              " 'videos': 3,\n",
              " 'want': 2,\n",
              " 'web': 1}"
            ]
          },
          "metadata": {
            "tags": []
          },
          "execution_count": 19
        }
      ]
    },
    {
      "cell_type": "code",
      "metadata": {
        "colab": {
          "base_uri": "https://localhost:8080/"
        },
        "id": "OOToi1K-KqGY",
        "outputId": "9f9e0a37-1463-4dd5-a5d1-af1237e98aa8"
      },
      "source": [
        "max_freq=max(word_freq.values())\n",
        "max_freq"
      ],
      "execution_count": 21,
      "outputs": [
        {
          "output_type": "execute_result",
          "data": {
            "text/plain": [
              "11"
            ]
          },
          "metadata": {
            "tags": []
          },
          "execution_count": 21
        }
      ]
    },
    {
      "cell_type": "code",
      "metadata": {
        "colab": {
          "base_uri": "https://localhost:8080/"
        },
        "id": "V5LaM3kcK7aJ",
        "outputId": "1fec5fea-f69b-4994-a0d3-8e1f702a97be"
      },
      "source": [
        "#normalizing the freq\n",
        "for word in word_freq.keys():\n",
        "    word_freq[word]=word_freq[word]/max_freq\n",
        "\n",
        "word_freq"
      ],
      "execution_count": 23,
      "outputs": [
        {
          "output_type": "execute_result",
          "data": {
            "text/plain": [
              "{'Image': 0.09090909090909091,\n",
              " 'Imagine': 0.09090909090909091,\n",
              " 'Similarly': 0.09090909090909091,\n",
              " 'Summarization': 0.09090909090909091,\n",
              " 'Video': 0.09090909090909091,\n",
              " 'able': 0.09090909090909091,\n",
              " 'abstract': 0.18181818181818182,\n",
              " 'actions': 0.09090909090909091,\n",
              " 'activity': 0.09090909090909091,\n",
              " 'application': 0.18181818181818182,\n",
              " 'applications': 0.09090909090909091,\n",
              " 'articles': 0.2727272727272727,\n",
              " 'attempts': 0.09090909090909091,\n",
              " 'automatic': 0.09090909090909091,\n",
              " 'automatically': 0.2727272727272727,\n",
              " 'based': 0.09090909090909091,\n",
              " 'boring': 0.18181818181818182,\n",
              " 'broadly': 0.09090909090909091,\n",
              " 'called': 0.18181818181818182,\n",
              " 'captured': 0.09090909090909091,\n",
              " 'cluster': 0.09090909090909091,\n",
              " 'collection': 0.2727272727272727,\n",
              " 'concisely': 0.09090909090909091,\n",
              " 'consists': 0.09090909090909091,\n",
              " 'consumer': 0.09090909090909091,\n",
              " 'context': 0.09090909090909091,\n",
              " 'create': 0.09090909090909091,\n",
              " 'creates': 0.09090909090909091,\n",
              " 'depending': 0.18181818181818182,\n",
              " 'document': 0.36363636363636365,\n",
              " 'documents': 0.18181818181818182,\n",
              " 'domain': 0.09090909090909091,\n",
              " 'etc': 0.09090909090909091,\n",
              " 'example': 0.2727272727272727,\n",
              " 'exploration': 0.09090909090909091,\n",
              " 'extract': 0.09090909090909091,\n",
              " 'extractive': 0.09090909090909091,\n",
              " 'focuses': 0.18181818181818182,\n",
              " 'frames': 0.09090909090909091,\n",
              " 'generated': 0.09090909090909091,\n",
              " 'generating': 0.09090909090909091,\n",
              " 'generic': 0.2727272727272727,\n",
              " 'given': 0.18181818181818182,\n",
              " 'ignoring': 0.09090909090909091,\n",
              " 'image': 0.09090909090909091,\n",
              " 'images': 0.2727272727272727,\n",
              " 'images.[3': 0.09090909090909091,\n",
              " 'important': 0.09090909090909091,\n",
              " 'interested': 0.09090909090909091,\n",
              " 'larger': 0.09090909090909091,\n",
              " 'latest': 0.09090909090909091,\n",
              " 'long': 0.09090909090909091,\n",
              " 'machine': 0.09090909090909091,\n",
              " 'multi': 0.09090909090909091,\n",
              " 'multiple': 0.09090909090909091,\n",
              " 'needs': 0.09090909090909091,\n",
              " 'news': 0.36363636363636365,\n",
              " 'objects': 0.09090909090909091,\n",
              " 'obtaining': 0.09090909090909091,\n",
              " 'personal': 0.09090909090909091,\n",
              " 'problem': 0.18181818181818182,\n",
              " 'produce': 0.09090909090909091,\n",
              " 'program': 0.09090909090909091,\n",
              " 'pulls': 0.09090909090909091,\n",
              " 'query': 0.36363636363636365,\n",
              " 'redundant': 0.09090909090909091,\n",
              " 'related': 0.18181818181818182,\n",
              " 'relevant': 0.18181818181818182,\n",
              " 'repetitive': 0.09090909090909091,\n",
              " 'representative': 0.18181818181818182,\n",
              " 'represents': 0.09090909090909091,\n",
              " 'results': 0.09090909090909091,\n",
              " 'second': 0.09090909090909091,\n",
              " 'selecting': 0.09090909090909091,\n",
              " 'set': 0.18181818181818182,\n",
              " 'sets': 0.09090909090909091,\n",
              " 'single': 0.09090909090909091,\n",
              " 'skip': 0.09090909090909091,\n",
              " 'source': 0.18181818181818182,\n",
              " 'specific': 0.09090909090909091,\n",
              " 'stories': 0.09090909090909091,\n",
              " 'summaries': 0.18181818181818182,\n",
              " 'summarization': 1.0,\n",
              " 'summarizes': 0.09090909090909091,\n",
              " 'summarizing': 0.09090909090909091,\n",
              " 'summary': 0.36363636363636365,\n",
              " 'surveillance': 0.09090909090909091,\n",
              " 'suspicious': 0.09090909090909091,\n",
              " 'system': 0.2727272727272727,\n",
              " 'systems': 0.09090909090909091,\n",
              " 'tasks': 0.09090909090909091,\n",
              " 'text': 0.09090909090909091,\n",
              " 'topic': 0.18181818181818182,\n",
              " 'trailer': 0.09090909090909091,\n",
              " 'types': 0.09090909090909091,\n",
              " 'use': 0.09090909090909091,\n",
              " 'useful': 0.09090909090909091,\n",
              " 'user': 0.09090909090909091,\n",
              " 'video': 0.09090909090909091,\n",
              " 'videos': 0.2727272727272727,\n",
              " 'want': 0.18181818181818182,\n",
              " 'web': 0.09090909090909091}"
            ]
          },
          "metadata": {
            "tags": []
          },
          "execution_count": 23
        }
      ]
    },
    {
      "cell_type": "code",
      "metadata": {
        "colab": {
          "base_uri": "https://localhost:8080/"
        },
        "id": "lg0FJU36LSAx",
        "outputId": "f1c8dc5c-c5ae-459c-cd7f-e20493d5e3d5"
      },
      "source": [
        "sentence_token=[sent for sent in doc.sents]\n",
        "print(sentence_token)"
      ],
      "execution_count": 24,
      "outputs": [
        {
          "output_type": "stream",
          "text": [
            "[\n",
            "There are broadly two types of extractive summarization tasks depending on what the summarization program focuses on., The first is generic summarization, which focuses on obtaining a generic summary or abstract of the collection (whether documents, or sets of images, or videos, news stories etc.)., The second is query relevant summarization, sometimes called query-based summarization, which summarizes objects specific to a query., Summarization systems are able to create both query relevant text summaries and generic machine-generated summaries depending on what the user needs.\n",
            ", An example of a summarization problem is document summarization, which attempts to automatically produce an abstract from a given document., Sometimes one might be interested in generating a summary from a single source document, while others can use multiple source documents (for example, a cluster of articles on the same topic)., This problem is called multi-document summarization., A related application is summarizing news articles., Imagine a system, which automatically pulls together news articles on a given topic (from the web), and concisely represents the latest news as a summary.\n",
            ", Image collection summarization is another application example of automatic summarization., It consists in selecting a representative set of images from a larger set of images.[3], A summary in this context is useful to show the most representative images of results in an image collection exploration system., Video summarization is a related domain, where the system automatically creates a trailer of a long video., This also has applications in consumer or personal videos, where one might want to skip the boring or repetitive actions., Similarly, in surveillance videos, one would want to extract important and suspicious activity, while ignoring all the boring and redundant frames captured.\n",
            "]\n"
          ],
          "name": "stdout"
        }
      ]
    },
    {
      "cell_type": "code",
      "metadata": {
        "id": "vpJc0chYLhw3"
      },
      "source": [
        "sentence_score={}\n",
        "for sent in sentence_token:\n",
        "    for word in sent:\n",
        "        if word.text.lower() in word_freq.keys():\n",
        "            if sent not in sentence_score.keys():\n",
        "                sentence_score[sent]=word_freq[word.text.lower()]\n",
        "            else:\n",
        "                sentence_score[sent]+=word_freq[word.text.lower()]"
      ],
      "execution_count": 25,
      "outputs": []
    },
    {
      "cell_type": "code",
      "metadata": {
        "colab": {
          "base_uri": "https://localhost:8080/"
        },
        "id": "KCDN0-h6MXuW",
        "outputId": "2212537c-0d5d-48d0-9364-66fcb12c3abb"
      },
      "source": [
        "sentence_score"
      ],
      "execution_count": 26,
      "outputs": [
        {
          "output_type": "execute_result",
          "data": {
            "text/plain": [
              "{\n",
              " There are broadly two types of extractive summarization tasks depending on what the summarization program focuses on.: 2.818181818181818,\n",
              " The first is generic summarization, which focuses on obtaining a generic summary or abstract of the collection (whether documents, or sets of images, or videos, news stories etc.).: 3.9999999999999987,\n",
              " The second is query relevant summarization, sometimes called query-based summarization, which summarizes objects specific to a query.: 3.909090909090909,\n",
              " Summarization systems are able to create both query relevant text summaries and generic machine-generated summaries depending on what the user needs.: 3.09090909090909,\n",
              " An example of a summarization problem is document summarization, which attempts to automatically produce an abstract from a given document.: 3.9999999999999996,\n",
              " Sometimes one might be interested in generating a summary from a single source document, while others can use multiple source documents (for example, a cluster of articles on the same topic).: 2.545454545454545,\n",
              " This problem is called multi-document summarization.: 1.8181818181818183,\n",
              " A related application is summarizing news articles.: 1.0909090909090908,\n",
              " Imagine a system, which automatically pulls together news articles on a given topic (from the web), and concisely represents the latest news as a summary.: 2.727272727272727,\n",
              " Image collection summarization is another application example of automatic summarization.: 2.909090909090909,\n",
              " It consists in selecting a representative set of images from a larger set of images.[3]: 1.1818181818181817,\n",
              " A summary in this context is useful to show the most representative images of results in an image collection exploration system.: 1.818181818181818,\n",
              " Video summarization is a related domain, where the system automatically creates a trailer of a long video.: 2.2727272727272725,\n",
              " This also has applications in consumer or personal videos, where one might want to skip the boring or repetitive actions.: 1.1818181818181817,\n",
              " Similarly, in surveillance videos, one would want to extract important and suspicious activity, while ignoring all the boring and redundant frames captured.: 1.4545454545454544}"
            ]
          },
          "metadata": {
            "tags": []
          },
          "execution_count": 26
        }
      ]
    },
    {
      "cell_type": "code",
      "metadata": {
        "id": "lsrQGI1AMZGd"
      },
      "source": [
        "#getting top 30 persent score\n",
        "from heapq import nlargest"
      ],
      "execution_count": 28,
      "outputs": []
    },
    {
      "cell_type": "code",
      "metadata": {
        "colab": {
          "base_uri": "https://localhost:8080/"
        },
        "id": "MgGMLGvGMkGt",
        "outputId": "4aa8a3f2-1b31-45a9-fd04-68243f3d6140"
      },
      "source": [
        "select_length=int(len(sentence_token)*0.3)\n",
        "select_length"
      ],
      "execution_count": 30,
      "outputs": [
        {
          "output_type": "execute_result",
          "data": {
            "text/plain": [
              "4"
            ]
          },
          "metadata": {
            "tags": []
          },
          "execution_count": 30
        }
      ]
    },
    {
      "cell_type": "code",
      "metadata": {
        "colab": {
          "base_uri": "https://localhost:8080/"
        },
        "id": "Tg4vivo9MxM8",
        "outputId": "14802a96-69c1-42c1-d7ea-e7aec3899402"
      },
      "source": [
        "summary=nlargest(select_length,sentence_score,key=sentence_score.get)\n",
        "summary"
      ],
      "execution_count": 32,
      "outputs": [
        {
          "output_type": "execute_result",
          "data": {
            "text/plain": [
              "[An example of a summarization problem is document summarization, which attempts to automatically produce an abstract from a given document.,\n",
              " The first is generic summarization, which focuses on obtaining a generic summary or abstract of the collection (whether documents, or sets of images, or videos, news stories etc.).,\n",
              " The second is query relevant summarization, sometimes called query-based summarization, which summarizes objects specific to a query.,\n",
              " Summarization systems are able to create both query relevant text summaries and generic machine-generated summaries depending on what the user needs.]"
            ]
          },
          "metadata": {
            "tags": []
          },
          "execution_count": 32
        }
      ]
    },
    {
      "cell_type": "code",
      "metadata": {
        "id": "GEiEmDI9NBcx"
      },
      "source": [
        "#combine these sentence together\n",
        "final_summary=[word.text for word in summary]"
      ],
      "execution_count": 33,
      "outputs": []
    },
    {
      "cell_type": "code",
      "metadata": {
        "id": "r9LrRUJLNSqA"
      },
      "source": [
        "final_summary=' '.join(final_summary)"
      ],
      "execution_count": 35,
      "outputs": []
    },
    {
      "cell_type": "code",
      "metadata": {
        "colab": {
          "base_uri": "https://localhost:8080/",
          "height": 72
        },
        "id": "kn850P2nNTvI",
        "outputId": "027f2a27-d49c-490c-aa8a-db01d0a56a6f"
      },
      "source": [
        "final_summary"
      ],
      "execution_count": 36,
      "outputs": [
        {
          "output_type": "execute_result",
          "data": {
            "application/vnd.google.colaboratory.intrinsic+json": {
              "type": "string"
            },
            "text/plain": [
              "'An example of a summarization problem is document summarization, which attempts to automatically produce an abstract from a given document. The first is generic summarization, which focuses on obtaining a generic summary or abstract of the collection (whether documents, or sets of images, or videos, news stories etc.). The second is query relevant summarization, sometimes called query-based summarization, which summarizes objects specific to a query. Summarization systems are able to create both query relevant text summaries and generic machine-generated summaries depending on what the user needs.\\n'"
            ]
          },
          "metadata": {
            "tags": []
          },
          "execution_count": 36
        }
      ]
    },
    {
      "cell_type": "code",
      "metadata": {
        "id": "bII-jPhfNaUY"
      },
      "source": [
        ""
      ],
      "execution_count": null,
      "outputs": []
    }
  ]
}